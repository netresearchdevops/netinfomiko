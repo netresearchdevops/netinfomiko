{
 "cells": [
  {
   "cell_type": "code",
   "execution_count": 2,
   "metadata": {},
   "outputs": [],
   "source": [
    "import pandas as pd"
   ]
  },
  {
   "cell_type": "code",
   "execution_count": 3,
   "metadata": {},
   "outputs": [],
   "source": [
    "fileload = pd.read_csv('devicelist.csv', index_col='hostname')"
   ]
  },
  {
   "cell_type": "code",
   "execution_count": 5,
   "metadata": {},
   "outputs": [
    {
     "name": "stdout",
     "output_type": "stream",
     "text": [
      "               ipaddress devtype  conntype connport sitename\n",
      "hostname                                                    \n",
      "MELS1R1   192.168.163.10  router      2001   telnet      MEL\n",
      "MELS1R2   192.168.163.20  router      2001   telnet      MEL\n",
      "SYDS1R1   192.168.163.11  router      2001   telnet      SYD\n",
      "SYDS2R1   192.168.163.21  router      2001      ssh      SYD\n",
      "PERS3R4   192.168.163.32  router      2001      ssh      PER\n"
     ]
    }
   ],
   "source": [
    "print(fileload)"
   ]
  },
  {
   "cell_type": "code",
   "execution_count": 8,
   "metadata": {},
   "outputs": [],
   "source": [
    "fileload['wanbandwidth'] = 'NaN'"
   ]
  },
  {
   "cell_type": "code",
   "execution_count": 9,
   "metadata": {},
   "outputs": [
    {
     "name": "stdout",
     "output_type": "stream",
     "text": [
      "               ipaddress devtype  conntype connport sitename wanbandwidth\n",
      "hostname                                                                 \n",
      "MELS1R1   192.168.163.10  router      2001   telnet      MEL          NaN\n",
      "MELS1R2   192.168.163.20  router      2001   telnet      MEL          NaN\n",
      "SYDS1R1   192.168.163.11  router      2001   telnet      SYD          NaN\n",
      "SYDS2R1   192.168.163.21  router      2001      ssh      SYD          NaN\n",
      "PERS3R4   192.168.163.32  router      2001      ssh      PER          NaN\n"
     ]
    }
   ],
   "source": [
    "print(fileload)"
   ]
  },
  {
   "cell_type": "code",
   "execution_count": null,
   "metadata": {},
   "outputs": [],
   "source": []
  },
  {
   "cell_type": "code",
   "execution_count": null,
   "metadata": {},
   "outputs": [],
   "source": []
  }
 ],
 "metadata": {
  "kernelspec": {
   "display_name": "Python 3",
   "language": "python",
   "name": "python3"
  },
  "language_info": {
   "codemirror_mode": {
    "name": "ipython",
    "version": 3
   },
   "file_extension": ".py",
   "mimetype": "text/x-python",
   "name": "python",
   "nbconvert_exporter": "python",
   "pygments_lexer": "ipython3",
   "version": "3.6.5"
  }
 },
 "nbformat": 4,
 "nbformat_minor": 2
}
