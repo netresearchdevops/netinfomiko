{
 "cells": [
  {
   "cell_type": "code",
   "execution_count": 13,
   "metadata": {},
   "outputs": [],
   "source": [
    "import pandas as pd\n",
    "import yaml"
   ]
  },
  {
   "cell_type": "code",
   "execution_count": 14,
   "metadata": {},
   "outputs": [],
   "source": [
    "fileload = pd.read_csv('devicelistgsn3.csv', index_col='hostname')"
   ]
  },
  {
   "cell_type": "code",
   "execution_count": 15,
   "metadata": {},
   "outputs": [
    {
     "name": "stdout",
     "output_type": "stream",
     "text": [
      "                ipaddress devtype  conntype connport sitename\n",
      "hostname                                                     \n",
      "MELS1R1   192.168.239.135  router      5001   telnet      MEL\n",
      "MELS1R2   192.168.239.135  router      5002   telnet      MEL\n",
      "SYDS1R1   192.168.239.135  router      5003   telnet      SYD\n",
      "SYDS2R1   192.168.239.135  switch      5004      ssh      SYD\n",
      "PERS3R4   192.168.239.135  switch      5005      ssh      PER\n"
     ]
    }
   ],
   "source": [
    "print(fileload)"
   ]
  },
  {
   "cell_type": "code",
   "execution_count": 16,
   "metadata": {},
   "outputs": [],
   "source": [
    "fileload['wanbandwidth'] = 'NaN'"
   ]
  },
  {
   "cell_type": "code",
   "execution_count": 31,
   "metadata": {},
   "outputs": [
    {
     "name": "stdout",
     "output_type": "stream",
     "text": [
      "MEL\n"
     ]
    }
   ],
   "source": [
    "print(fileload['sitename']['MELS1R1'])"
   ]
  },
  {
   "cell_type": "code",
   "execution_count": 47,
   "metadata": {},
   "outputs": [
    {
     "name": "stdout",
     "output_type": "stream",
     "text": [
      "MEL\n"
     ]
    }
   ],
   "source": [
    "#fileload.loc[fileload['sitename']['MELS1R1']] = \"ADL\"\n",
    "print(fileload.loc['MELS1R2', 'sitename'])"
   ]
  },
  {
   "cell_type": "code",
   "execution_count": 48,
   "metadata": {},
   "outputs": [],
   "source": [
    "fileload.loc['MELS1R2', 'sitename'] = \"DAR\""
   ]
  },
  {
   "cell_type": "code",
   "execution_count": 49,
   "metadata": {},
   "outputs": [
    {
     "name": "stdout",
     "output_type": "stream",
     "text": [
      "                ipaddress devtype conntype connport sitename wanbandwidth\n",
      "hostname                                                                 \n",
      "MELS1R1   192.168.239.135  router     5001   telnet      ADL          NaN\n",
      "MELS1R2   192.168.239.135  router     5002   telnet      DAR          NaN\n",
      "SYDS1R1   192.168.239.135  router     5003   telnet      SYD          NaN\n",
      "SYDS2R1   192.168.239.135  switch     5004      ssh      SYD          NaN\n",
      "PERS3R4   192.168.239.135  switch     5005      ssh      PER          NaN\n",
      "ADL                   ADL     ADL      ADL      ADL      ADL          ADL\n"
     ]
    }
   ],
   "source": [
    "print(fileload)"
   ]
  },
  {
   "cell_type": "code",
   "execution_count": 18,
   "metadata": {},
   "outputs": [
    {
     "data": {
      "text/plain": [
       "array(['router', 'switch'], dtype=object)"
      ]
     },
     "execution_count": 18,
     "metadata": {},
     "output_type": "execute_result"
    }
   ],
   "source": [
    "fileload['devtype'].unique()"
   ]
  },
  {
   "cell_type": "code",
   "execution_count": 20,
   "metadata": {},
   "outputs": [],
   "source": [
    "def loadconfyml(filenam):\n",
    "    \"\"\" \n",
    "    Load the conifuration file written in YAML format\n",
    "    into python \n",
    "    \"\"\"\n",
    "\n",
    "    with open(filenam, \"r\") as file_descriptor:\n",
    "        cfgdata = yaml.load(file_descriptor)\n",
    "    # file_descriptor.close()\n",
    "        #print(list(cfgdata))\n",
    "    #for i in cfgdata:\n",
    "    #    print(i)\n",
    "        return cfgdata"
   ]
  },
  {
   "cell_type": "code",
   "execution_count": 21,
   "metadata": {},
   "outputs": [],
   "source": [
    "cfgyamlfileload = loadconfyml('cfgdescswitch.yaml')"
   ]
  },
  {
   "cell_type": "code",
   "execution_count": 23,
   "metadata": {},
   "outputs": [
    {
     "data": {
      "text/plain": [
       "{'wan bandwidth': {'clicmd': 'show run | i bandwdith',\n",
       "  'regexmatch': '^bandwdith [0-9].*'},\n",
       " 'vlan1 ip': {'clicmd': 'show run vlan1 | i address',\n",
       "  'regexmatch': '^ip address*'},\n",
       " 'vlan2 ip': {'clicmd': 'show run vlan1 | i address',\n",
       "  'regexmatch': '^ip address*'},\n",
       " 'snmp location': {'clicmd': 'show run | i snmp location',\n",
       "  'regexmatch': '^snmp location *'}}"
      ]
     },
     "execution_count": 23,
     "metadata": {},
     "output_type": "execute_result"
    }
   ],
   "source": [
    "cfgyamlfileload['switch']"
   ]
  },
  {
   "cell_type": "code",
   "execution_count": 24,
   "metadata": {},
   "outputs": [
    {
     "data": {
      "text/plain": [
       "{'clicmd': 'show run | i bandwdith', 'regexmatch': '^bandwdith [0-9].*'}"
      ]
     },
     "execution_count": 24,
     "metadata": {},
     "output_type": "execute_result"
    }
   ],
   "source": [
    "cfgyamlfileload['switch']['wan bandwidth']"
   ]
  },
  {
   "cell_type": "code",
   "execution_count": 25,
   "metadata": {},
   "outputs": [
    {
     "data": {
      "text/plain": [
       "'show run | i bandwdith'"
      ]
     },
     "execution_count": 25,
     "metadata": {},
     "output_type": "execute_result"
    }
   ],
   "source": [
    "cfgyamlfileload['switch']['wan bandwidth']['clicmd']"
   ]
  },
  {
   "cell_type": "code",
   "execution_count": 26,
   "metadata": {},
   "outputs": [],
   "source": [
    "import re"
   ]
  },
  {
   "cell_type": "code",
   "execution_count": 29,
   "metadata": {},
   "outputs": [
    {
     "name": "stdout",
     "output_type": "stream",
     "text": [
      "<_sre.SRE_Match object; span=(0, 14), match='bandwidth 4000'>\n"
     ]
    }
   ],
   "source": [
    "outone = re.search(r\"^bandwidth [0-9]+\", \"bandwidth 4000\")\n",
    "print(outone)"
   ]
  },
  {
   "cell_type": "code",
   "execution_count": null,
   "metadata": {},
   "outputs": [],
   "source": []
  }
 ],
 "metadata": {
  "kernelspec": {
   "display_name": "Python 3",
   "language": "python",
   "name": "python3"
  },
  "language_info": {
   "codemirror_mode": {
    "name": "ipython",
    "version": 3
   },
   "file_extension": ".py",
   "mimetype": "text/x-python",
   "name": "python",
   "nbconvert_exporter": "python",
   "pygments_lexer": "ipython3",
   "version": "3.6.5"
  }
 },
 "nbformat": 4,
 "nbformat_minor": 2
}
